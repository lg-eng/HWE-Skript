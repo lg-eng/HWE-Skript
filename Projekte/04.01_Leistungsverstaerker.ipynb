{
  "cells": [
    {
      "cell_type": "markdown",
      "metadata": {},
      "source": [
        "## Leistungsverstärker\n"
      ],
      "id": "4cfd5f98"
    },
    {
      "cell_type": "code",
      "metadata": {},
      "source": [
        "#| code-fold: true\n",
        "#| echo: false\n",
        "\n",
        "Ic = MySymbol('I_C',description='Kollektorstrom')"
      ],
      "id": "123b441c",
      "execution_count": null,
      "outputs": []
    },
    {
      "cell_type": "markdown",
      "metadata": {},
      "source": [
        "Transistorverstärker wie die Sie bisher bekannt sind in denen ein Transistor in einem Arbeitspunkt betrieben wird haben bei höheren Leisutngen eine zu hohe Verlustleistung. Die Verlustleistung ist proportional zum Strom durch den Kollektor `r reticulate::py_eval(\"Ic\")`. in Ruhe, also ohne Signal am Eingang.\n",
        "Bei der Emitterschaltung ist der Ruhestrom höher da der Arbeitspunkt auf der Kennlinie weiter \"oben\" ist. "
      ],
      "id": "6bb791be"
    }
  ],
  "metadata": {
    "kernelspec": {
      "name": "python3",
      "language": "python",
      "display_name": "Python 3 (ipykernel)"
    }
  },
  "nbformat": 4,
  "nbformat_minor": 5
}