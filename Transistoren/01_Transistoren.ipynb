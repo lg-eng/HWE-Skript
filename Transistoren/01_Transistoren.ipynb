{
  "cells": [
    {
      "cell_type": "markdown",
      "metadata": {},
      "source": [
        "# Der Transistor\n"
      ],
      "id": "2efea746"
    },
    {
      "cell_type": "code",
      "metadata": {},
      "source": [
        "#| code-fold: true\n",
        "#| echo: false\n",
        "\n",
        "#import sys\n",
        "# adding Folder_2 to the system path\n",
        "#sys.path.insert(0, '../../../Common/QuartoBookHelpers')\n",
        "#import QuartoBookHelpers\n",
        "\n",
        "from IPython.display import Markdown, Latex\n",
        "\n",
        "from sympy import *\n",
        "import sympy.physics.units as u\n",
        "import numpy as np\n",
        "from matplotlib import pyplot as plt\n",
        "from quantiphy import Quantity\n",
        "import re\n",
        "\n",
        "class MySymbol(Symbol):\n",
        "    def __new__(cls, name, description='',unit='',value=''):\n",
        "        obj = Symbol.__new__(cls, name)\n",
        "        obj.description = description\n",
        "        obj.unit = unit\n",
        "        obj.value = value\n",
        "        \n",
        "        return obj\n",
        "\n",
        "class MyFunction(Function):\n",
        "    def __new__(cls, name, description='',unit='',value=''):\n",
        "        obj = Function.__new__(cls, name)\n",
        "        obj.description = description\n",
        "        obj.unit = unit\n",
        "        obj.value = value\n",
        "        \n",
        "        return obj\n",
        "        \n",
        "class QBookHelpers():\n",
        "    def print_description(dic):\n",
        "        for vari in dic:\n",
        "            display(Markdown(f'${latex(vari)}$' + ' ... ' + vari.description))\n",
        "            \n",
        "    def print_equation(eq,**kwargs):\n",
        "        #print(kwargs)\n",
        "        if kwargs != {}:\n",
        "            label = kwargs['label']\n",
        "            #print(label)\n",
        "            display(Markdown(f'$$\\n{latex(eq)}\\n$${{#' + label + f'}}'))\n",
        "        else:      \n",
        "            display(Markdown(f'$$\\n{latex(eq)}\\n$${{#eq-Dummy}}'))\n",
        "            \n",
        "    def print_values(dic,**kwargs):\n",
        "        for vari in dic:\n",
        "            try:\n",
        "                QuantValue = Quantity(vari.value,str(vari.unit.abbrev))\n",
        "            except:\n",
        "                QuantValue = Quantity(vari.value)\n",
        "            \n",
        "            quant_string = QuantValue.render(prec=2)\n",
        "            val = quant_string.split(' ')[0]\n",
        "            if quant_string[-1].isdigit():\n",
        "                uni = ''\n",
        "            else:\n",
        "                try:\n",
        "                    uni = quant_string.split(' ')[1]\n",
        "                except:\n",
        "                    uni = quant_string[-1]\n",
        "            #print(re.split('(\\d+)',QuantValue.render(prec=2)))\n",
        "            #uni = re.split('(\\d+)',QuantValue.render(prec=2))[-1]\n",
        "            #uni = ''\n",
        "            #val = re.split('(\\d+)',QuantValue.render(prec=2))[1]\n",
        "            #val = QuantValue.render(prec=2)\n",
        "\n",
        "            if uni.find('ohm') >=0:\n",
        "                uni = '\\ \\mathrm{' + uni.replace('ohm','\\Omega') + '}'\n",
        "                disp_string = f'$${latex(vari)}' + ' = ' + latex(val) + ' ' + str(uni) + f'$$' \n",
        "            else:\n",
        "                disp_string = f'$${latex(vari)}' + ' = ' + latex(val) + ' \\ ' + latex(uni) + f'$$' \n",
        "            \n",
        "            if kwargs != {}:\n",
        "                label = kwargs['label']\n",
        "                disp_string = disp_string + f'{{#' + label + f'}}'\n",
        "\n",
        "            \n",
        "            display(Markdown(disp_string))\n",
        "\n",
        "            #display(Markdown(f'${latex(vari)}$' + ' = ' + str(vari.value) + f'$\\ {latex(vari.unit)}$' ))            \n",
        "            #display(Markdown(f'${latex(vari)}$' + ' = ' + str(\"%.2f\" % round(vari.value, 2)) + f'$\\ {latex(vari.unit)}$' ))\n",
        "            #display(Markdown(f'$${latex(vari)}' + ' = ' + latex(QuantValue.render()) + f'$$' ))\n",
        "            #display(Markdown(f'$${latex(vari)}' + ' = ' + latex(quant) + f'$$' ))\n",
        "            #display(Markdown(f'$${latex(vari)}' + ' = ' + str(vari.value) + f'\\ {latex(vari.unit)}$$' ))\n",
        "\n",
        "            \n",
        "    def calculate_num_value(eqn):\n",
        "        replacement = {}\n",
        "        for sym in eqn.rhs.free_symbols:\n",
        "            case = {sym:sym.value}\n",
        "            replacement.update(case)\n",
        "        #print(replacement)\n",
        "        #return Eq(eqn.lhs,eqn.rhs.evalf(subs=replacement))\n",
        "        eqn.lhs.value = eqn.rhs.evalf(subs=replacement)\n",
        "        #display(eqn.lhs.value)\n",
        "\n",
        "    def logic_parser(eqn):\n",
        "        return str(eqn).replace('&','and').replace('|','or').replace('~','not')\n"
      ],
      "id": "5b00a8c9",
      "execution_count": null,
      "outputs": []
    },
    {
      "cell_type": "markdown",
      "metadata": {},
      "source": [
        "## Feldeffekttransistor {#sec-MOSFET}\n",
        "\n",
        "Die einfachste und die gleichzeitig eine der wichtigsten Anwendungen des MOSFET's ist der Schalter. Mittels Spannnung am Gate wird der MOSFET ein- und ausgeschalten.\n",
        "\n",
        "![N-Kanal MOSFET als Schalter](Grafiken/NChannelenhancementSwitch){#fig-n-Channel_switch}\n",
        "\n",
        "Die notwendigen und zulässigen Spannungen sind aus dem Datenblatt des gewählten Transistors zu entnehmen. Die kleinste Spannung, welche für das Schalten zwischen Gate und Source anliegen muss, wird Threshold-Spannung $U_{GS,Threshhold}$ genannt. Am Gate wird kein Vorwiderstand benötigt, da der Eingangswiderstand des MOSFET's sehr hoch ist und dadurch, in den meisten Fällen, mit $I_D = 0 \\ \\mathrm{A}$ angenommen werden kann.\n",
        "\n",
        "### Aufgabe\n",
        "\n",
        "#### Teil 1: N-Kanal Anreicherungstyp\n",
        "Simulieren Sie die Schaltung. Wählen Sie die Spannungen aus dem Datenblatt aus. Geben Sie für zwei Eingangspulse den Strom durch, und die Spannung über den Widerstand.\n",
        "Verwenden Sie dafür die Transientenanalyse und geben Sie deutlich an ob das Ergebnis den Erwartungen entspricht oder nicht. Argumentieren Sie Ihre Aussage.\n",
        "\n",
        "#### Teil 2: P-Kanal Anreicherungstyp\n",
        "Simulieren Sie die Schaltung erneut unter der verwendung eines P-Kanal Anreicherungstypen. Passen Sie die Spannungen so an, dass auch dieser als Schalter funktioniert. Verwenden Sie dazu erneut das passende Datenblatt.\n",
        "Geben Sie deutlich an ob das Ergebnis den Erwartungen entspricht oder nicht. Argumentieren Sie Ihre Aussage.\n",
        "\n",
        "\n",
        "## Bipolartransistor {#sec-BJT}\n",
        "\n",
        "<!-- ![Bipolartransistor in Emittergrundschaltung](Grafiken/BJTEmitter_Basic){#fig-BJT_Emitter_Basic} -->\n"
      ],
      "id": "6b03e858"
    },
    {
      "cell_type": "code",
      "metadata": {},
      "source": [
        "#| code-fold: true\n",
        "#| echo: false\n",
        "\n",
        "R1 = MySymbol('R_1',description='Widerstand 1 am Spannungsteiler für die AP einstellung')\n",
        "R2 = MySymbol('R_2')\n",
        "Rc = MySymbol('R_c',unit=u.ohm,description='Widerstand zwischen der Versorgungsspannung und dem Kollektor')\n",
        "Re = MySymbol('R_e',description='Widerstand zwischen dem Emitter und der Masse')\n",
        "U1 = MySymbol('U_1')\n",
        "U2 = MySymbol('U_2')\n",
        "UBE = MySymbol('U_BE')\n",
        "Uc = MySymbol('U_C')\n",
        "Ue = MySymbol('U_E')\n",
        "Ubat = MySymbol('U_bat')\n",
        "Uout = MySymbol('U_out')\n",
        "Uin = MySymbol('U_in')\n",
        "Ib = MySymbol('I_B')\n",
        "Ic = MySymbol('I_C')\n",
        "Iq = MySymbol('I_Q')\n"
      ],
      "id": "c3554524",
      "execution_count": null,
      "outputs": []
    },
    {
      "cell_type": "markdown",
      "metadata": {},
      "source": [
        "### Die Emitterschaltung mit Temperaturstabilisierung\n",
        "Ein einfacher Spannungsverstärker. Der Re dient der Temperaturstabilisierung der $U_{BE}$ Strecke.\n",
        "\n",
        "![Bipolartransistor in Emittergrundschaltung mit Re](Grafiken/BJTEmitterschaltung_mitRE){#fig-BJT_Emitter_mit_Re}\n",
        "\n",
        "\n",
        "### Aufgabenstellung\n",
        "Entwerfen Sie einen Spannungsverstärker mit einer Verstärkung.\n"
      ],
      "id": "79e18ca2"
    },
    {
      "cell_type": "code",
      "metadata": {},
      "source": [
        "#| code-fold: true\n",
        "#| echo: false\n",
        "vU = MySymbol('v_U',description='Spannungsverstärkung',value=-20)\n",
        "\n",
        "vU_eq = Eq(vU,-Rc/Re)\n",
        "\n",
        "QBookHelpers.print_equation(vU_eq,label='eq-vU_eq')\n",
        "#QBookHelpers.print_description(vU_eq.free_symbols)\n",
        "QBookHelpers.print_values([vU])"
      ],
      "id": "6cafed54",
      "execution_count": null,
      "outputs": []
    },
    {
      "cell_type": "markdown",
      "metadata": {},
      "source": [
        "#### Gegeben\n",
        "\n",
        "##### Aus der Angabe\n"
      ],
      "id": "b56196c4"
    },
    {
      "cell_type": "code",
      "metadata": {},
      "source": [
        "#| code-fold: true\n",
        "#| echo: false\n",
        "vU = MySymbol('v_U',description='Spannungsverstärkung',value=-20)\n",
        "QBookHelpers.print_values([vU])\n",
        "#QBookHelpers.print_description([vU])\n",
        "\n",
        "Ubat = MySymbol('U_bat',description='Versorgungsspannung',value=10,unit=u.V)\n",
        "QBookHelpers.print_values([Ubat])\n",
        "#QBookHelpers.print_description([Ubat])"
      ],
      "id": "a8cee710",
      "execution_count": null,
      "outputs": []
    },
    {
      "cell_type": "markdown",
      "metadata": {},
      "source": [
        "##### Aus dem Datenblatt\n"
      ],
      "id": "dcd5d284"
    },
    {
      "cell_type": "code",
      "metadata": {},
      "source": [
        "#| code-fold: true\n",
        "#| echo: false\n",
        "B = MySymbol('B',description='Stromverstärkung, $h_{fe}$',value=300)\n",
        "\n",
        "QBookHelpers.print_values([B])\n",
        "#QBookHelpers.print_description([B])"
      ],
      "id": "c9cdeccc",
      "execution_count": null,
      "outputs": []
    },
    {
      "cell_type": "markdown",
      "metadata": {},
      "source": [
        "##### Aus der Erfahrung / Faustregel\n",
        "* Zahlenwerte\n"
      ],
      "id": "9ec308b8"
    },
    {
      "cell_type": "code",
      "metadata": {},
      "source": [
        "#| code-fold: true\n",
        "#| echo: false\n",
        "\n",
        "Ut = MySymbol('U_T',description='Temperaturspannung',value=25*10**-3,unit=u.V)\n",
        "QBookHelpers.print_values([Ut])\n",
        "#QBookHelpers.print_description([Ut])\n",
        "\n",
        "Ic = MySymbol('I_c',description='Strom in den Kollektor',value=1*10**-3,unit=u.A)\n",
        "QBookHelpers.print_values([Ic])\n",
        "#QBookHelpers.print_description([Ic])\n",
        "\n",
        "Ube = MySymbol('U_BE',description='Spannungsabfall zwischen Basis und Emitter',value=0.7,unit=u.V)\n",
        "QBookHelpers.print_values([Ube])\n",
        "#QBookHelpers.print_description([Ube])\n"
      ],
      "id": "f77bb467",
      "execution_count": null,
      "outputs": []
    },
    {
      "cell_type": "markdown",
      "metadata": {},
      "source": [
        "* Gleichungen\n"
      ],
      "id": "7d1ee72b"
    },
    {
      "cell_type": "code",
      "metadata": {},
      "source": [
        "#| code-fold: true\n",
        "#| echo: false\n",
        "\n",
        "Ic_eq = Eq(Ic,Ubat/(2*(Re+Rc)))\n",
        "\n",
        "QBookHelpers.print_equation(Ic_eq,label='eq-Ic1')\n",
        "#QBookHelpers.print_description(Ic_eq.free_symbols)"
      ],
      "id": "9476a53f",
      "execution_count": null,
      "outputs": []
    },
    {
      "cell_type": "markdown",
      "metadata": {},
      "source": [
        "### Berechnung\n",
        "* Gleichung @eq-vU_eq  nach $R_e$ auflösen. Das Ergebnis in Gleichung @eq-Ic1 einsetzen und nach $R_c$ auflösen.\n"
      ],
      "id": "05ba8c8d"
    },
    {
      "cell_type": "code",
      "metadata": {},
      "source": [
        "#| code-fold: true\n",
        "#| echo: false\n",
        "\n",
        "Re_eq  = Eq(Re,solve(vU_eq,Re)[0])\n",
        "QBookHelpers.print_equation(vU_eq,label='eq-Re1')\n",
        "\n",
        "Ic_eq2 = Ic_eq.subs(Re_eq.lhs,Re_eq.rhs)\n",
        "QBookHelpers.print_equation(Ic_eq2,label='eq-Ic_eq2')\n",
        "\n",
        "Rc_eq2  = Eq(Rc,solve(Ic_eq2,Rc)[0])\n",
        "QBookHelpers.print_equation(Rc_eq2,label='eq-Rc1')\n",
        "\n",
        "QBookHelpers.calculate_num_value(Rc_eq2)\n",
        "QBookHelpers.print_values([Rc])\n",
        "\n",
        "#QBookHelpers.print_description(Rc_eq2.free_symbols)"
      ],
      "id": "154b48b9",
      "execution_count": null,
      "outputs": []
    },
    {
      "cell_type": "markdown",
      "metadata": {},
      "source": [
        "### Die Kollektorschaltung\n",
        "Die Kollektorschaltung wird als Impedanzwandler eingesetzt. Daher ist die wesentliche Eigenschaft der Eingangswiderstand. Die Bauteile müssen also so berechnet werden, dass sich ein gewünschter Eingangwiderstand einstellt.\n"
      ],
      "id": "2e404924"
    },
    {
      "cell_type": "code",
      "metadata": {},
      "source": [
        "#| code-fold: true\n",
        "#| echo: false\n"
      ],
      "id": "c1ebc3fa",
      "execution_count": null,
      "outputs": []
    },
    {
      "cell_type": "markdown",
      "metadata": {},
      "source": [
        "**To be Continued**\n"
      ],
      "id": "dcc437a3"
    }
  ],
  "metadata": {
    "kernelspec": {
      "name": "python3",
      "language": "python",
      "display_name": "Python 3 (ipykernel)"
    }
  },
  "nbformat": 4,
  "nbformat_minor": 5
}